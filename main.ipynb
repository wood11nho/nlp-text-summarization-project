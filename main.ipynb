{
 "cells": [
  {
   "cell_type": "code",
   "execution_count": null,
   "metadata": {},
   "outputs": [],
   "source": [
    "from bs4 import BeautifulSoup\n",
    "import requests\n",
    "from transformers import pipeline\n",
    "import re\n"
   ]
  },
  {
   "cell_type": "code",
   "execution_count": null,
   "metadata": {},
   "outputs": [],
   "source": [
    "#pas 1 - web scrape the given website (the one that we want to summarize)\n",
    "def web_scrape(url):\n",
    "    response = requests.get(url)\n",
    "    soup = BeautifulSoup(response.text, 'html.parser')\n",
    "    text = ' '.join([p.text for p in soup.find_all('p')]) #extracting the text from the paragraphs\n",
    "\n",
    "    return text"
   ]
  },
  {
   "cell_type": "code",
   "execution_count": null,
   "metadata": {},
   "outputs": [],
   "source": [
    "#pas 2 - summarize the text\n",
    "def summarize(text):\n",
    "    summarizer = pipeline('summarization')\n",
    "    summary = summarizer(text, max_length = 30, min_length = 5, do_sample = False)\n",
    "    summary = summary[0]['summary_text']\n",
    "\n",
    "    return summary"
   ]
  },
  {
   "cell_type": "code",
   "execution_count": null,
   "metadata": {},
   "outputs": [],
   "source": [
    "#pas 3 - print the summary\n",
    "url = \"https://en.wikipedia.org/wiki/24th_Arabian_Gulf_Cup\"\n",
    "text = web_scrape(url)\n",
    "summary = summarize(text)\n",
    "print(\"Summary: \")\n",
    "print(summary)\n",
    "print(\"\\n\")\n",
    "print(\"Original text: \")\n",
    "print(text)"
   ]
  }
 ],
 "metadata": {
  "kernelspec": {
   "display_name": "tf",
   "language": "python",
   "name": "python3"
  },
  "language_info": {
   "codemirror_mode": {
    "name": "ipython",
    "version": 3
   },
   "file_extension": ".py",
   "mimetype": "text/x-python",
   "name": "python",
   "nbconvert_exporter": "python",
   "pygments_lexer": "ipython3",
   "version": "3.9.19"
  }
 },
 "nbformat": 4,
 "nbformat_minor": 2
}
